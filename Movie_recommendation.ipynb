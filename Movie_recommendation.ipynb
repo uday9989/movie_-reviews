{
 "cells": [
  {
   "cell_type": "code",
   "execution_count": null,
   "id": "7884cf9e-a1e0-4d9c-8ee6-946df39315ca",
   "metadata": {},
   "outputs": [
    {
     "name": "stdout",
     "output_type": "stream",
     "text": [
      "\n",
      "Choose Recommendation System:\n",
      "1: Popularity-Based\n",
      "2: Content-Based\n",
      "3: Collaborative-Based\n",
      "4: Exit\n"
     ]
    },
    {
     "name": "stdin",
     "output_type": "stream",
     "text": [
      "Enter choice (1, 2, 3, or 4 to exit):  2\n",
      "Enter Movie Title (e.g., Toy Story):  Ghost\n",
      "Enter Number of Recommendations:  3\n"
     ]
    },
    {
     "name": "stdout",
     "output_type": "stream",
     "text": [
      "Movie 'Ghost' not found in the dataset.\n",
      "Empty DataFrame\n",
      "Columns: [title]\n",
      "Index: []\n",
      "\n",
      "Choose Recommendation System:\n",
      "1: Popularity-Based\n",
      "2: Content-Based\n",
      "3: Collaborative-Based\n",
      "4: Exit\n"
     ]
    },
    {
     "name": "stdin",
     "output_type": "stream",
     "text": [
      "Enter choice (1, 2, 3, or 4 to exit):  2\n",
      "Enter Movie Title (e.g., Toy Story):  Good Will Hunting\n",
      "Enter Number of Recommendations:  3\n"
     ]
    },
    {
     "name": "stdout",
     "output_type": "stream",
     "text": [
      "Movie 'Good Will Hunting' not found in the dataset.\n",
      "Empty DataFrame\n",
      "Columns: [title]\n",
      "Index: []\n",
      "\n",
      "Choose Recommendation System:\n",
      "1: Popularity-Based\n",
      "2: Content-Based\n",
      "3: Collaborative-Based\n",
      "4: Exit\n"
     ]
    },
    {
     "name": "stdin",
     "output_type": "stream",
     "text": [
      "Enter choice (1, 2, 3, or 4 to exit):  1\n",
      "Enter Genre (e.g., Comedy):  comedy\n",
      "Enter Minimum Reviews Threshold:  4\n",
      "Enter Number of Recommendations:  6\n"
     ]
    },
    {
     "name": "stdout",
     "output_type": "stream",
     "text": [
      "                                            title  avg_rating  num_reviews\n",
      "3138                 Louis C.K.: Shameless (2007)    4.611111            9\n",
      "3137                 Louis C.K.: Chewed Up (2008)    4.555556            9\n",
      "2825          Blackadder's Christmas Carol (1988)    4.500000            5\n",
      "3011           Ricky Gervais Live: Animals (2003)    4.500000            5\n",
      "3465  Louis C.K.: Live at The Comedy Store (2015)    4.500000            6\n",
      "3441                            Wild Tales (2014)    4.500000            4\n",
      "\n",
      "Choose Recommendation System:\n",
      "1: Popularity-Based\n",
      "2: Content-Based\n",
      "3: Collaborative-Based\n",
      "4: Exit\n"
     ]
    }
   ],
   "source": [
    "import pandas as pd\n",
    "import numpy as np\n",
    "from sklearn.metrics.pairwise import cosine_similarity\n",
    "from sklearn.feature_extraction.text import CountVectorizer\n",
    "from scipy.sparse import csr_matrix\n",
    "from sklearn.neighbors import NearestNeighbors\n",
    "\n",
    "# Load datasets\n",
    "movies = pd.read_csv(r\"C:\\Users\\udayv\\OneDrive\\Desktop\\edurekha project\\castrophone project\\Project Dataset\\movies.csv\")\n",
    "ratings = pd.read_csv(r\"C:\\Users\\udayv\\OneDrive\\Desktop\\edurekha project\\castrophone project\\Project Dataset\\ratings.csv\")\n",
    "\n",
    "# Merge movies and ratings on movieId\n",
    "movie_ratings = pd.merge(ratings, movies, on='movieId')\n",
    "\n",
    "# Calculate average rating per movie and count of reviews per movie\n",
    "movie_stats = movie_ratings.groupby('movieId').agg({\n",
    "    'rating': ['mean', 'count']\n",
    "}).reset_index()\n",
    "movie_stats.columns = ['movieId', 'avg_rating', 'num_reviews']\n",
    "\n",
    "# Define Popularity-Based Recommender\n",
    "def popularity_based_recommendation(genre, min_reviews, num_recommendations):\n",
    "    genre_movies = movies[movies['genres'].str.contains(genre, case=False, na=False)]\n",
    "    genre_movie_stats = pd.merge(genre_movies, movie_stats, on='movieId')\n",
    "    popular_movies = genre_movie_stats[genre_movie_stats['num_reviews'] >= min_reviews]\n",
    "    popular_movies = popular_movies.sort_values(by='avg_rating', ascending=False)\n",
    "    return popular_movies[['title', 'avg_rating', 'num_reviews']].head(num_recommendations)\n",
    "\n",
    "# Define Content-Based Recommender with updated error handling\n",
    "def content_based_recommendation(movie_title, num_recommendations):\n",
    "    # Check if the movie title exists in the dataset\n",
    "    if movie_title not in movies['title'].values:\n",
    "        print(f\"Movie '{movie_title}' not found in the dataset.\")\n",
    "        return pd.DataFrame(columns=['title'])  # Return an empty DataFrame for consistency\n",
    "\n",
    "    count_vectorizer = CountVectorizer(tokenizer=lambda x: x.split('|'))\n",
    "    genre_matrix = count_vectorizer.fit_transform(movies['genres'])\n",
    "    \n",
    "    # Get index of the movie title\n",
    "    movie_idx = movies[movies['title'] == movie_title].index[0]\n",
    "    \n",
    "    # Calculate cosine similarity\n",
    "    cosine_sim = cosine_similarity(genre_matrix)\n",
    "    sim_scores = list(enumerate(cosine_sim[movie_idx]))\n",
    "    sim_scores = sorted(sim_scores, key=lambda x: x[1], reverse=True)\n",
    "    \n",
    "    # Get indices of similar movies, excluding the queried movie itself\n",
    "    movie_indices = [i[0] for i in sim_scores[1:num_recommendations+1]]\n",
    "    return movies.iloc[movie_indices][['title']]\n",
    "\n",
    "# Define Collaborative-Based Recommender\n",
    "def collaborative_based_recommendation(user_id, num_recommendations, k):\n",
    "    user_movie_matrix = ratings.pivot(index='userId', columns='movieId', values='rating').fillna(0)\n",
    "    knn = NearestNeighbors(metric='cosine', algorithm='brute', n_neighbors=k, n_jobs=-1)\n",
    "    knn.fit(user_movie_matrix)\n",
    "    distances, indices = knn.kneighbors([user_movie_matrix.loc[user_id]])\n",
    "    similar_users = indices.flatten()\n",
    "    similar_ratings = user_movie_matrix.loc[similar_users].mean(axis=0)\n",
    "    user_ratings = user_movie_matrix.loc[user_id]\n",
    "    unrated_movies = user_ratings[user_ratings == 0]\n",
    "    recommendations = similar_ratings[unrated_movies.index].sort_values(ascending=False).head(num_recommendations)\n",
    "    recommended_movie_ids = recommendations.index\n",
    "    return movies[movies['movieId'].isin(recommended_movie_ids)][['title']]\n",
    "\n",
    "# User Interface for Testing\n",
    "def main():\n",
    "    while True:\n",
    "        print(\"\\nChoose Recommendation System:\")\n",
    "        print(\"1: Popularity-Based\\n2: Content-Based\\n3: Collaborative-Based\\n4: Exit\")\n",
    "        \n",
    "        try:\n",
    "            choice = int(input(\"Enter choice (1, 2, 3, or 4 to exit): \"))\n",
    "            \n",
    "            if choice == 1:\n",
    "                genre = input(\"Enter Genre (e.g., Comedy): \")\n",
    "                min_reviews = int(input(\"Enter Minimum Reviews Threshold: \"))\n",
    "                num_recommendations = int(input(\"Enter Number of Recommendations: \"))\n",
    "                result = popularity_based_recommendation(genre, min_reviews, num_recommendations)\n",
    "                print(result)\n",
    "                \n",
    "            elif choice == 2:\n",
    "                movie_title = input(\"Enter Movie Title (e.g., Toy Story): \")\n",
    "                num_recommendations = int(input(\"Enter Number of Recommendations: \"))\n",
    "                result = content_based_recommendation(movie_title, num_recommendations)\n",
    "                print(result)\n",
    "                \n",
    "            elif choice == 3:\n",
    "                user_id = int(input(\"Enter User ID: \"))\n",
    "                num_recommendations = int(input(\"Enter Number of Recommendations: \"))\n",
    "                k = int(input(\"Enter Threshold for Similar Users: \"))\n",
    "                result = collaborative_based_recommendation(user_id, num_recommendations, k)\n",
    "                print(result)\n",
    "                \n",
    "            elif choice == 4:\n",
    "                print(\"Exiting the recommendation system.\")\n",
    "                break\n",
    "                \n",
    "            else:\n",
    "                print(\"Invalid choice, please enter a number between 1 and 4.\")\n",
    "        \n",
    "        except ValueError:\n",
    "            print(\"Invalid input. Please enter a valid number.\")\n",
    "\n",
    "if __name__ == \"__main__\":\n",
    "    main()\n"
   ]
  },
  {
   "cell_type": "code",
   "execution_count": null,
   "id": "302c0e70-ada9-4e14-8d2e-ed5e31a5eab6",
   "metadata": {},
   "outputs": [],
   "source": []
  }
 ],
 "metadata": {
  "kernelspec": {
   "display_name": "Python 3 (ipykernel)",
   "language": "python",
   "name": "python3"
  },
  "language_info": {
   "codemirror_mode": {
    "name": "ipython",
    "version": 3
   },
   "file_extension": ".py",
   "mimetype": "text/x-python",
   "name": "python",
   "nbconvert_exporter": "python",
   "pygments_lexer": "ipython3",
   "version": "3.11.7"
  }
 },
 "nbformat": 4,
 "nbformat_minor": 5
}
